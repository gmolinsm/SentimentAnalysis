{
 "cells": [
  {
   "cell_type": "markdown",
   "metadata": {},
   "source": [
    "# Análisis de sentimientos en redes sociales\n",
    "```\n",
    "Guillermo Molins Méndez\n",
    "```"
   ]
  },
  {
   "cell_type": "markdown",
   "metadata": {},
   "source": [
    "## 1. Introducción\n",
    "\n",
    "El análisis de sentimientos es una subdisciplina de la minería de texto y el procesamiento del lenguaje natural (PLN) que se centra en identificar y extraer opiniones y emociones expresadas en el texto. Este campo ha ganado una considerable relevancia en la última década debido al auge de las redes sociales, donde millones de usuarios expresan sus pensamientos, emociones y opiniones diariamente. Plataformas como Twitter, Facebook e Instagram se han convertido en valiosas fuentes de datos para el análisis de sentimientos, ofreciendo una ventana sin precedentes hacia el comportamiento y estado emocional de la población.\n",
    "\n",
    "Twitter, en particular, con su formato de mensajes cortos y públicos conocidos como tweets, es una plataforma ideal para el análisis de sentimientos. Los usuarios comparten una amplia gama de experiencias y emociones en tiempo real, lo que permite la recopilación y análisis de datos sobre tendencias sociales, políticas y de consumo. Además, Twitter cuenta con una API a través de la cual se han extraido los datos para este notebook.\n",
    "\n",
    "En el contexto de la salud mental, a través del análisis de los sentimientos expresados en los tweets, es posible identificar patrones que puedan indicar condiciones de salud mental como la depresión, la ansiedad o el estrés. Esta capacidad de monitorear y clasificar el estado de salud mental en tiempo real puede ofrecer valiosos insights para los profesionales de la salud, investigadores y responsables de políticas públicas.\n",
    "\n",
    "La clasificación de la salud mental en tweets implica el uso de algoritmos avanzados de PLN y aprendizaje automático para analizar el tono, la emoción y el contenido de los mensajes. Estos algoritmos pueden ser entrenados para reconocer palabras clave, frases y contextos que están asociados con diferentes estados emocionales y trastornos mentales. Por ejemplo, la frecuencia de palabras relacionadas con la tristeza, el aislamiento o la desesperanza puede ser indicativa de depresión, mientras que términos relacionados con el nerviosismo o la preocupación pueden señalar ansiedad.\n",
    "\n",
    "El proceso de clasificación también puede incluir técnicas más sofisticadas como el análisis de sentimiento basado en contexto, que tiene en cuenta no solo las palabras individuales sino también la relación entre ellas y el contexto más amplio en el que se utilizan. Esta aproximación permite una interpretación más precisa de los tweets, minimizando errores y mejorando la capacidad de los modelos para identificar con precisión el estado emocional del usuario.\n",
    "\n",
    "En resumen, el análisis de sentimientos aplicado a las redes sociales, y en particular a Twitter, ofrece una poderosa herramienta para la clasificación y monitoreo de la salud mental. Esta tecnología no solo permite una comprensión más profunda de los estados emocionales de los individuos en tiempo real, sino que también abre nuevas vías para la intervención temprana y el apoyo a aquellos que lo necesitan, contribuyendo significativamente a la mejora del bienestar mental en la sociedad."
   ]
  },
  {
   "cell_type": "markdown",
   "metadata": {},
   "source": [
    "## 2. Análisis de datos exploratorio"
   ]
  },
  {
   "cell_type": "markdown",
   "metadata": {},
   "source": [
    "Comenzamos por hacer un análisis preliminar exploratorio para comprender mejor el dataset"
   ]
  },
  {
   "cell_type": "code",
   "execution_count": 43,
   "metadata": {},
   "outputs": [
    {
     "data": {
      "text/html": [
       "<div>\n",
       "<style scoped>\n",
       "    .dataframe tbody tr th:only-of-type {\n",
       "        vertical-align: middle;\n",
       "    }\n",
       "\n",
       "    .dataframe tbody tr th {\n",
       "        vertical-align: top;\n",
       "    }\n",
       "\n",
       "    .dataframe thead th {\n",
       "        text-align: right;\n",
       "    }\n",
       "</style>\n",
       "<table border=\"1\" class=\"dataframe\">\n",
       "  <thead>\n",
       "    <tr style=\"text-align: right;\">\n",
       "      <th></th>\n",
       "      <th>Unnamed: 0</th>\n",
       "      <th>post_id</th>\n",
       "      <th>post_created</th>\n",
       "      <th>post_text</th>\n",
       "      <th>user_id</th>\n",
       "      <th>followers</th>\n",
       "      <th>friends</th>\n",
       "      <th>favourites</th>\n",
       "      <th>statuses</th>\n",
       "      <th>retweets</th>\n",
       "      <th>label</th>\n",
       "    </tr>\n",
       "  </thead>\n",
       "  <tbody>\n",
       "    <tr>\n",
       "      <th>0</th>\n",
       "      <td>0</td>\n",
       "      <td>637894677824413696</td>\n",
       "      <td>Sun Aug 30 07:48:37 +0000 2015</td>\n",
       "      <td>It's just over 2 years since I was diagnosed w...</td>\n",
       "      <td>1013187241</td>\n",
       "      <td>84</td>\n",
       "      <td>211</td>\n",
       "      <td>251</td>\n",
       "      <td>837</td>\n",
       "      <td>0</td>\n",
       "      <td>1</td>\n",
       "    </tr>\n",
       "    <tr>\n",
       "      <th>1</th>\n",
       "      <td>1</td>\n",
       "      <td>637890384576778240</td>\n",
       "      <td>Sun Aug 30 07:31:33 +0000 2015</td>\n",
       "      <td>It's Sunday, I need a break, so I'm planning t...</td>\n",
       "      <td>1013187241</td>\n",
       "      <td>84</td>\n",
       "      <td>211</td>\n",
       "      <td>251</td>\n",
       "      <td>837</td>\n",
       "      <td>1</td>\n",
       "      <td>1</td>\n",
       "    </tr>\n",
       "    <tr>\n",
       "      <th>2</th>\n",
       "      <td>2</td>\n",
       "      <td>637749345908051968</td>\n",
       "      <td>Sat Aug 29 22:11:07 +0000 2015</td>\n",
       "      <td>Awake but tired. I need to sleep but my brain ...</td>\n",
       "      <td>1013187241</td>\n",
       "      <td>84</td>\n",
       "      <td>211</td>\n",
       "      <td>251</td>\n",
       "      <td>837</td>\n",
       "      <td>0</td>\n",
       "      <td>1</td>\n",
       "    </tr>\n",
       "    <tr>\n",
       "      <th>3</th>\n",
       "      <td>3</td>\n",
       "      <td>637696421077123073</td>\n",
       "      <td>Sat Aug 29 18:40:49 +0000 2015</td>\n",
       "      <td>RT @SewHQ: #Retro bears make perfect gifts and...</td>\n",
       "      <td>1013187241</td>\n",
       "      <td>84</td>\n",
       "      <td>211</td>\n",
       "      <td>251</td>\n",
       "      <td>837</td>\n",
       "      <td>2</td>\n",
       "      <td>1</td>\n",
       "    </tr>\n",
       "    <tr>\n",
       "      <th>4</th>\n",
       "      <td>4</td>\n",
       "      <td>637696327485366272</td>\n",
       "      <td>Sat Aug 29 18:40:26 +0000 2015</td>\n",
       "      <td>It’s hard to say whether packing lists are mak...</td>\n",
       "      <td>1013187241</td>\n",
       "      <td>84</td>\n",
       "      <td>211</td>\n",
       "      <td>251</td>\n",
       "      <td>837</td>\n",
       "      <td>1</td>\n",
       "      <td>1</td>\n",
       "    </tr>\n",
       "  </tbody>\n",
       "</table>\n",
       "</div>"
      ],
      "text/plain": [
       "   Unnamed: 0             post_id                    post_created  \\\n",
       "0           0  637894677824413696  Sun Aug 30 07:48:37 +0000 2015   \n",
       "1           1  637890384576778240  Sun Aug 30 07:31:33 +0000 2015   \n",
       "2           2  637749345908051968  Sat Aug 29 22:11:07 +0000 2015   \n",
       "3           3  637696421077123073  Sat Aug 29 18:40:49 +0000 2015   \n",
       "4           4  637696327485366272  Sat Aug 29 18:40:26 +0000 2015   \n",
       "\n",
       "                                           post_text     user_id  followers  \\\n",
       "0  It's just over 2 years since I was diagnosed w...  1013187241         84   \n",
       "1  It's Sunday, I need a break, so I'm planning t...  1013187241         84   \n",
       "2  Awake but tired. I need to sleep but my brain ...  1013187241         84   \n",
       "3  RT @SewHQ: #Retro bears make perfect gifts and...  1013187241         84   \n",
       "4  It’s hard to say whether packing lists are mak...  1013187241         84   \n",
       "\n",
       "   friends  favourites  statuses  retweets  label  \n",
       "0      211         251       837         0      1  \n",
       "1      211         251       837         1      1  \n",
       "2      211         251       837         0      1  \n",
       "3      211         251       837         2      1  \n",
       "4      211         251       837         1      1  "
      ]
     },
     "execution_count": 43,
     "metadata": {},
     "output_type": "execute_result"
    }
   ],
   "source": [
    "# Import libraries\n",
    "import pandas as pd\n",
    "\n",
    "# Import dataset\n",
    "df = pd.read_csv('./Mental-Health-Twitter/Mental-Health-Twitter.csv')\n",
    "df.head()"
   ]
  },
  {
   "cell_type": "code",
   "execution_count": 44,
   "metadata": {},
   "outputs": [
    {
     "data": {
      "text/plain": [
       "(20000, 11)"
      ]
     },
     "execution_count": 44,
     "metadata": {},
     "output_type": "execute_result"
    }
   ],
   "source": [
    "df.shape"
   ]
  },
  {
   "cell_type": "code",
   "execution_count": 45,
   "metadata": {},
   "outputs": [
    {
     "data": {
      "text/plain": [
       "Unnamed: 0      0\n",
       "post_id         0\n",
       "post_created    0\n",
       "post_text       0\n",
       "user_id         0\n",
       "followers       0\n",
       "friends         0\n",
       "favourites      0\n",
       "statuses        0\n",
       "retweets        0\n",
       "label           0\n",
       "dtype: int64"
      ]
     },
     "execution_count": 45,
     "metadata": {},
     "output_type": "execute_result"
    }
   ],
   "source": [
    "df.isnull().sum()"
   ]
  },
  {
   "cell_type": "markdown",
   "metadata": {},
   "source": [
    "Nuestro dataset se compone de 20000 muestras (tweets) y recopila 10 variables. No tenemos valores nulos. Una de estas es \"label\" que asumimos es la etiqueta que nos indica la clase a predecir (en este caso, el sentimiento del tweet)."
   ]
  },
  {
   "cell_type": "code",
   "execution_count": 46,
   "metadata": {},
   "outputs": [
    {
     "data": {
      "text/plain": [
       "<Axes: ylabel='count'>"
      ]
     },
     "execution_count": 46,
     "metadata": {},
     "output_type": "execute_result"
    },
    {
     "data": {
      "image/png": "[encoded data removed]",
      "text/plain": [
       "<Figure size 640x480 with 1 Axes>"
      ]
     },
     "metadata": {},
     "output_type": "display_data"
    }
   ],
   "source": [
    "df.label.value_counts().plot(kind=\"pie\")"
   ]
  },
  {
   "cell_type": "markdown",
   "metadata": {},
   "source": [
    "Tenemos un dataset balanceado."
   ]
  },
  {
   "cell_type": "markdown",
   "metadata": {},
   "source": [
    "Como curiosidad, podemos buscar los mensajes con mayor número de retweets."
   ]
  },
  {
   "cell_type": "code",
   "execution_count": 47,
   "metadata": {},
   "outputs": [
    {
     "data": {
      "text/html": [
       "<div>\n",
       "<style scoped>\n",
       "    .dataframe tbody tr th:only-of-type {\n",
       "        vertical-align: middle;\n",
       "    }\n",
       "\n",
       "    .dataframe tbody tr th {\n",
       "        vertical-align: top;\n",
       "    }\n",
       "\n",
       "    .dataframe thead th {\n",
       "        text-align: right;\n",
       "    }\n",
       "</style>\n",
       "<table border=\"1\" class=\"dataframe\">\n",
       "  <thead>\n",
       "    <tr style=\"text-align: right;\">\n",
       "      <th></th>\n",
       "      <th>Unnamed: 0</th>\n",
       "      <th>post_id</th>\n",
       "      <th>post_created</th>\n",
       "      <th>post_text</th>\n",
       "      <th>user_id</th>\n",
       "      <th>followers</th>\n",
       "      <th>friends</th>\n",
       "      <th>favourites</th>\n",
       "      <th>statuses</th>\n",
       "      <th>retweets</th>\n",
       "      <th>label</th>\n",
       "    </tr>\n",
       "  </thead>\n",
       "  <tbody>\n",
       "    <tr>\n",
       "      <th>16482</th>\n",
       "      <td>16482</td>\n",
       "      <td>811546437259436032</td>\n",
       "      <td>Wed Dec 21 12:18:43 +0000 2016</td>\n",
       "      <td>RT @omgAdamSaleh: We got kicked out of a @Delt...</td>\n",
       "      <td>490044008</td>\n",
       "      <td>1849</td>\n",
       "      <td>561</td>\n",
       "      <td>8229</td>\n",
       "      <td>86352</td>\n",
       "      <td>839540</td>\n",
       "      <td>0</td>\n",
       "    </tr>\n",
       "    <tr>\n",
       "      <th>10066</th>\n",
       "      <td>10066</td>\n",
       "      <td>819078760758738944</td>\n",
       "      <td>Wed Jan 11 07:09:28 +0000 2017</td>\n",
       "      <td>RT @POTUS: Thank you for everything. My last a...</td>\n",
       "      <td>3249600438</td>\n",
       "      <td>235</td>\n",
       "      <td>185</td>\n",
       "      <td>24407</td>\n",
       "      <td>22302</td>\n",
       "      <td>822450</td>\n",
       "      <td>0</td>\n",
       "    </tr>\n",
       "    <tr>\n",
       "      <th>13870</th>\n",
       "      <td>13870</td>\n",
       "      <td>819062580740235268</td>\n",
       "      <td>Wed Jan 11 06:05:11 +0000 2017</td>\n",
       "      <td>RT @POTUS: Thank you for everything. My last a...</td>\n",
       "      <td>1497350173</td>\n",
       "      <td>640</td>\n",
       "      <td>445</td>\n",
       "      <td>24297</td>\n",
       "      <td>52892</td>\n",
       "      <td>820245</td>\n",
       "      <td>0</td>\n",
       "    </tr>\n",
       "    <tr>\n",
       "      <th>6354</th>\n",
       "      <td>6354</td>\n",
       "      <td>596272988351107072</td>\n",
       "      <td>Thu May 07 11:18:53 +0000 2015</td>\n",
       "      <td>RT @Louis_Tomlinson: Our fans support really h...</td>\n",
       "      <td>1306425758</td>\n",
       "      <td>734</td>\n",
       "      <td>1899</td>\n",
       "      <td>154</td>\n",
       "      <td>5929</td>\n",
       "      <td>402946</td>\n",
       "      <td>1</td>\n",
       "    </tr>\n",
       "    <tr>\n",
       "      <th>14330</th>\n",
       "      <td>14330</td>\n",
       "      <td>813836747406774272</td>\n",
       "      <td>Tue Dec 27 19:59:35 +0000 2016</td>\n",
       "      <td>RT @HamillHimself: no words #Devastated https:...</td>\n",
       "      <td>1497350173</td>\n",
       "      <td>640</td>\n",
       "      <td>445</td>\n",
       "      <td>24297</td>\n",
       "      <td>52892</td>\n",
       "      <td>358548</td>\n",
       "      <td>0</td>\n",
       "    </tr>\n",
       "    <tr>\n",
       "      <th>10851</th>\n",
       "      <td>10851</td>\n",
       "      <td>813954708092125185</td>\n",
       "      <td>Wed Dec 28 03:48:19 +0000 2016</td>\n",
       "      <td>RT @HamillHimself: no words #Devastated https:...</td>\n",
       "      <td>3249600438</td>\n",
       "      <td>235</td>\n",
       "      <td>185</td>\n",
       "      <td>24407</td>\n",
       "      <td>22302</td>\n",
       "      <td>358536</td>\n",
       "      <td>0</td>\n",
       "    </tr>\n",
       "    <tr>\n",
       "      <th>12158</th>\n",
       "      <td>12158</td>\n",
       "      <td>813998469455040512</td>\n",
       "      <td>Wed Dec 28 06:42:13 +0000 2016</td>\n",
       "      <td>RT @HamillHimself: no words #Devastated https:...</td>\n",
       "      <td>171999132</td>\n",
       "      <td>252</td>\n",
       "      <td>2119</td>\n",
       "      <td>704</td>\n",
       "      <td>1428</td>\n",
       "      <td>358510</td>\n",
       "      <td>0</td>\n",
       "    </tr>\n",
       "    <tr>\n",
       "      <th>6359</th>\n",
       "      <td>6359</td>\n",
       "      <td>596217206867800065</td>\n",
       "      <td>Thu May 07 07:37:13 +0000 2015</td>\n",
       "      <td>RT @Louis_Tomlinson: @NaughtyBoyMusic Jesus fo...</td>\n",
       "      <td>1306425758</td>\n",
       "      <td>734</td>\n",
       "      <td>1899</td>\n",
       "      <td>154</td>\n",
       "      <td>5929</td>\n",
       "      <td>341695</td>\n",
       "      <td>1</td>\n",
       "    </tr>\n",
       "    <tr>\n",
       "      <th>6358</th>\n",
       "      <td>6358</td>\n",
       "      <td>596217266422722560</td>\n",
       "      <td>Thu May 07 07:37:28 +0000 2015</td>\n",
       "      <td>RT @Louis_Tomlinson: @NaughtyBoyMusic good for...</td>\n",
       "      <td>1306425758</td>\n",
       "      <td>734</td>\n",
       "      <td>1899</td>\n",
       "      <td>154</td>\n",
       "      <td>5929</td>\n",
       "      <td>306473</td>\n",
       "      <td>1</td>\n",
       "    </tr>\n",
       "    <tr>\n",
       "      <th>15535</th>\n",
       "      <td>15535</td>\n",
       "      <td>815506107544145920</td>\n",
       "      <td>Sun Jan 01 10:33:02 +0000 2017</td>\n",
       "      <td>RT @edsheeran: Hello 2017... https://t.co/1Uyj...</td>\n",
       "      <td>490044008</td>\n",
       "      <td>1849</td>\n",
       "      <td>561</td>\n",
       "      <td>8229</td>\n",
       "      <td>86352</td>\n",
       "      <td>273872</td>\n",
       "      <td>0</td>\n",
       "    </tr>\n",
       "  </tbody>\n",
       "</table>\n",
       "</div>"
      ],
      "text/plain": [
       "       Unnamed: 0             post_id                    post_created  \\\n",
       "16482       16482  811546437259436032  Wed Dec 21 12:18:43 +0000 2016   \n",
       "10066       10066  819078760758738944  Wed Jan 11 07:09:28 +0000 2017   \n",
       "13870       13870  819062580740235268  Wed Jan 11 06:05:11 +0000 2017   \n",
       "6354         6354  596272988351107072  Thu May 07 11:18:53 +0000 2015   \n",
       "14330       14330  813836747406774272  Tue Dec 27 19:59:35 +0000 2016   \n",
       "10851       10851  813954708092125185  Wed Dec 28 03:48:19 +0000 2016   \n",
       "12158       12158  813998469455040512  Wed Dec 28 06:42:13 +0000 2016   \n",
       "6359         6359  596217206867800065  Thu May 07 07:37:13 +0000 2015   \n",
       "6358         6358  596217266422722560  Thu May 07 07:37:28 +0000 2015   \n",
       "15535       15535  815506107544145920  Sun Jan 01 10:33:02 +0000 2017   \n",
       "\n",
       "                                               post_text     user_id  \\\n",
       "16482  RT @omgAdamSaleh: We got kicked out of a @Delt...   490044008   \n",
       "10066  RT @POTUS: Thank you for everything. My last a...  3249600438   \n",
       "13870  RT @POTUS: Thank you for everything. My last a...  1497350173   \n",
       "6354   RT @Louis_Tomlinson: Our fans support really h...  1306425758   \n",
       "14330  RT @HamillHimself: no words #Devastated https:...  1497350173   \n",
       "10851  RT @HamillHimself: no words #Devastated https:...  3249600438   \n",
       "12158  RT @HamillHimself: no words #Devastated https:...   171999132   \n",
       "6359   RT @Louis_Tomlinson: @NaughtyBoyMusic Jesus fo...  1306425758   \n",
       "6358   RT @Louis_Tomlinson: @NaughtyBoyMusic good for...  1306425758   \n",
       "15535  RT @edsheeran: Hello 2017... https://t.co/1Uyj...   490044008   \n",
       "\n",
       "       followers  friends  favourites  statuses  retweets  label  \n",
       "16482       1849      561        8229     86352    839540      0  \n",
       "10066        235      185       24407     22302    822450      0  \n",
       "13870        640      445       24297     52892    820245      0  \n",
       "6354         734     1899         154      5929    402946      1  \n",
       "14330        640      445       24297     52892    358548      0  \n",
       "10851        235      185       24407     22302    358536      0  \n",
       "12158        252     2119         704      1428    358510      0  \n",
       "6359         734     1899         154      5929    341695      1  \n",
       "6358         734     1899         154      5929    306473      1  \n",
       "15535       1849      561        8229     86352    273872      0  "
      ]
     },
     "execution_count": 47,
     "metadata": {},
     "output_type": "execute_result"
    }
   ],
   "source": [
    "# Search for top 10 most retweets\n",
    "most_reetweeted = df.nlargest(n=10, columns=['retweets'])\n",
    "most_reetweeted"
   ]
  },
  {
   "cell_type": "markdown",
   "metadata": {},
   "source": [
    "A continuación calculamos la longitud promedio de los tweets."
   ]
  },
  {
   "cell_type": "code",
   "execution_count": 48,
   "metadata": {},
   "outputs": [
    {
     "data": {
      "text/plain": [
       "count    20000.000000\n",
       "mean        12.554200\n",
       "std          6.918038\n",
       "min          1.000000\n",
       "25%          7.000000\n",
       "50%         12.000000\n",
       "75%         18.000000\n",
       "max         57.000000\n",
       "Name: text_length, dtype: float64"
      ]
     },
     "execution_count": 48,
     "metadata": {},
     "output_type": "execute_result"
    }
   ],
   "source": [
    "# Apply a lambda function to calculate the total length of the text in words (separated by spaces)\n",
    "df[\"text_length\"] = df[\"post_text\"].apply(lambda texto: len(texto.split(\" \")))\n",
    "df[\"text_length\"].describe()"
   ]
  },
  {
   "cell_type": "code",
   "execution_count": 49,
   "metadata": {},
   "outputs": [
    {
     "data": {
      "text/plain": [
       "<Axes: >"
      ]
     },
     "execution_count": 49,
     "metadata": {},
     "output_type": "execute_result"
    },
    {
     "data": {
      "image/png": "[encoded data removed]",
      "text/plain": [
       "<Figure size 640x480 with 1 Axes>"
      ]
     },
     "metadata": {},
     "output_type": "display_data"
    }
   ],
   "source": [
    "df[\"text_length\"].hist()"
   ]
  },
  {
   "cell_type": "markdown",
   "metadata": {},
   "source": [
    "Como se muestra, tenemos una longitud promedio de 12 palabras y media. La moda son 10 palabras por tweet."
   ]
  },
  {
   "cell_type": "markdown",
   "metadata": {},
   "source": [
    "## 3. Preprocesamiento de los datos"
   ]
  },
  {
   "cell_type": "markdown",
   "metadata": {},
   "source": [
    "Un tweet es una forma de redacción única que presenta varias particularidades en comparación con otros tipos de textos a la hora del preprocesado. En este sentido, nos centraremos en corregir los siguientes aspectos:\n",
    "- A menudo, se utilizan mayúsculas en los tweets para acentuar la importancia de algo. Sin embargo, convertiremos todos nuestros tweets a minúscula ya que nuestro dataset no es lo suficientemente grande como para poder hacer distinciones tan específicas.\n",
    "- URLs y enlaces: Los tweets a menudo contienen enlaces que no aportan información relevante para el análisis del texto.\n",
    "- Hashtags y menciones: Para este análisis conservaremos el contenido de los hashtags (#) ya que en muchas ocasiones se utilizan palabras corrientes en estos. En el caso de las menciones (@) optaremos por sustituirlas por \"user\" ya que no aportan al análisis de sentimiento.\n",
    "- Emojis y emoticonos: Son una manera muy directa de representar emociones y por tanto un elemento determinante para la inferencia. Por esto trataremos de mantener los emojis."
   ]
  },
  {
   "cell_type": "code",
   "execution_count": 50,
   "metadata": {},
   "outputs": [],
   "source": [
    "import re\n",
    "\n",
    "# Definimos nuestra función para el limpiado de texto\n",
    "def parse_sentence(text: str):\n",
    "    clean_text = \"\"\n",
    "    for word in text.lower().split(\" \"):\n",
    "        if word.startswith('@') and len(word) > 1:\n",
    "            word = 'user'\n",
    "        elif word.startswith('http'):\n",
    "            word = 'http'\n",
    "        clean_text += word + \" \"\n",
    "    clean_text = re.sub(r'[\"#$%&\\'()*+,\\-./:;<=>@[\\]^_`{|}~―]', '', clean_text)\n",
    "    clean_text = clean_text.replace('  ', ' ')\n",
    "    return clean_text[:-1]"
   ]
  },
  {
   "cell_type": "code",
   "execution_count": 51,
   "metadata": {},
   "outputs": [],
   "source": [
    "texts = df[\"post_text\"].apply(lambda texto: parse_sentence(texto)).values"
   ]
  },
  {
   "cell_type": "code",
   "execution_count": 52,
   "metadata": {},
   "outputs": [
    {
     "data": {
      "text/plain": [
       "array(['its just over 2 years since i was diagnosed with anxiety and depression today im taking a moment to reflect on how far ive come since',\n",
       "       'its sunday i need a break so im planning to spend as little time as possible on the a14',\n",
       "       'awake but tired i need to sleep but my brain has other ideas',\n",
       "       ...,\n",
       "       'the flow chart is a most thoroughly oversold piece of program documentation frederick brooks jr the mythical man month',\n",
       "       'ships are safe in harbor but they were never meant to stay there',\n",
       "       'black holes are where god is dividing by zero'], dtype=object)"
      ]
     },
     "execution_count": 52,
     "metadata": {},
     "output_type": "execute_result"
    }
   ],
   "source": [
    "texts"
   ]
  },
  {
   "cell_type": "code",
   "execution_count": 53,
   "metadata": {},
   "outputs": [
    {
     "data": {
      "text/plain": [
       "'Truly so awful 😟 https://t.co/jI4Lw4K8co'"
      ]
     },
     "execution_count": 53,
     "metadata": {},
     "output_type": "execute_result"
    }
   ],
   "source": [
    "df[\"post_text\"][41]"
   ]
  },
  {
   "cell_type": "code",
   "execution_count": 54,
   "metadata": {},
   "outputs": [
    {
     "data": {
      "text/plain": [
       "'truly so awful 😟 http'"
      ]
     },
     "execution_count": 54,
     "metadata": {},
     "output_type": "execute_result"
    }
   ],
   "source": [
    "texts[41]"
   ]
  },
  {
   "cell_type": "markdown",
   "metadata": {},
   "source": [
    "A continuación, definimos nuestros conjuntos de entramiento y test"
   ]
  },
  {
   "cell_type": "code",
   "execution_count": 55,
   "metadata": {},
   "outputs": [],
   "source": [
    "from sklearn.model_selection import train_test_split\n",
    "\n",
    "label = df['label'].values\n",
    "x_train, x_test, y_train, y_test = train_test_split(texts, label, test_size=0.2, random_state=42)"
   ]
  },
  {
   "cell_type": "markdown",
   "metadata": {},
   "source": [
    "Ahora procesamos la variable \"post_text\" de nuestro dataframe (el corpus) con el cual vamos a generar el listado de vocabulario de nuestro modelo. En nuestro vocabulario, especificamos un token \"unk\" que representará todos aquellos tokens que no estén presentes en el vocabulario. Definimos un pipeline de procesado del texto con el que implementaremos posteriormente el Dataset y DataLoader de PyTorch."
   ]
  },
  {
   "cell_type": "code",
   "execution_count": 56,
   "metadata": {},
   "outputs": [],
   "source": [
    "from torchtext.vocab import build_vocab_from_iterator\n",
    "from torchtext.data.utils import get_tokenizer\n",
    "from torchtext.transforms import VocabTransform, Truncate, ToTensor, Sequential\n",
    "\n",
    "# Parameters\n",
    "max_tokens = 10000\n",
    "max_seq_len = 1024\n",
    "\n",
    "# Tokenizer and Vocabulary\n",
    "tokenizer = get_tokenizer('basic_english')\n",
    "\n",
    "def yield_tokens(data_iter):\n",
    "    for text in data_iter:\n",
    "        yield tokenizer(text)\n",
    "\n",
    "vocab = build_vocab_from_iterator(yield_tokens(texts), max_tokens=max_tokens)\n",
    "\n",
    "# Insert the <unk> token and set it as the default index\n",
    "vocab.insert_token('<unk>', 0)\n",
    "vocab.set_default_index(vocab['<unk>'])\n",
    "\n",
    "# Transformations\n",
    "text_pipeline = Sequential(\n",
    "    VocabTransform(vocab),\n",
    "    Truncate(max_seq_len),\n",
    "    ToTensor()\n",
    ")"
   ]
  },
  {
   "cell_type": "markdown",
   "metadata": {},
   "source": [
    "El Dataset y DataLoader de PyTorch son clases que facilitarán la iteración sobre los datos de entrenamiento y test."
   ]
  },
  {
   "cell_type": "code",
   "execution_count": 57,
   "metadata": {},
   "outputs": [],
   "source": [
    "from torch.utils.data import DataLoader, Dataset\n",
    "\n",
    "class TextDataset(Dataset):\n",
    "    def __init__(self, texts, labels, text_pipeline, tokenizer):\n",
    "        self.texts = texts\n",
    "        self.labels = labels\n",
    "        self.text_pipeline = text_pipeline\n",
    "        self.tokenizer = tokenizer\n",
    "\n",
    "    def __len__(self):\n",
    "        return len(self.texts)\n",
    "\n",
    "    def __getitem__(self, idx):\n",
    "        text = self.texts[idx]\n",
    "        label = self.labels[idx]\n",
    "        tokens = self.tokenizer(text)\n",
    "        processed_text = self.text_pipeline(tokens)\n",
    "        return processed_text, label"
   ]
  },
  {
   "cell_type": "markdown",
   "metadata": {},
   "source": [
    "Definimos una función extra para el recopilado y transformación de los datos. La función ```pad_sequence``` nos sirve para uniformizar la longitud de los tensores que introduciremos en la red reuronal."
   ]
  },
  {
   "cell_type": "code",
   "execution_count": 58,
   "metadata": {},
   "outputs": [],
   "source": [
    "# Collate function for DataLoader\n",
    "import torch\n",
    "from torch.nn.utils.rnn import pad_sequence\n",
    "\n",
    "def collate_fn(batch):\n",
    "    texts, labels = zip(*batch)\n",
    "    texts = pad_sequence(texts, batch_first=True)\n",
    "    labels = torch.tensor(labels, dtype=torch.long)\n",
    "    return texts, labels"
   ]
  },
  {
   "cell_type": "code",
   "execution_count": 59,
   "metadata": {},
   "outputs": [
    {
     "data": {
      "text/plain": [
       "(tensor([1114,   24, 1268, 1987,    2]), 1)"
      ]
     },
     "execution_count": 59,
     "metadata": {},
     "output_type": "execute_result"
    }
   ],
   "source": [
    "# Test dataset and dataloader\n",
    "dataset = TextDataset(texts, label, text_pipeline, tokenizer)\n",
    "dataloader = DataLoader(dataset, batch_size=32, shuffle=True, collate_fn=lambda x: collate_fn(x))\n",
    "dataset.__getitem__(41)"
   ]
  },
  {
   "cell_type": "markdown",
   "metadata": {},
   "source": [
    "## 4. Construcción del modelo de clasificación"
   ]
  },
  {
   "cell_type": "markdown",
   "metadata": {},
   "source": [
    "Definimos nuestro modelo de red neuronal. El esquema de nuestra red se compondrá de:\n",
    "\n",
    "* Una capa inicial de 128 neuronas que reciben como entrada las palabras de nuestro vocabulario. En esta capa se genera el embedding (mapeo)\n",
    "* Una única capa de tipo Transformer con 4 cabezas de atención. Tras varias pruebas, 1 capa resulta en la configuración más óptima\n",
    "* Una capa de convolución tipo MaxPooling\n",
    "* Una capa completamente conectada (activación ReLU)\n",
    "* Una capa de \"Dropout\" con un 30% de probabilidad. Este es un mecanismo de regularización.\n",
    "* Una capa completamente conectada de salida (activación SoftMax)"
   ]
  },
  {
   "cell_type": "code",
   "execution_count": 60,
   "metadata": {},
   "outputs": [
    {
     "data": {
      "text/plain": [
       "TransformerEncoderModel(\n",
       "  (embedding): Embedding(10001, 128, padding_idx=0)\n",
       "  (transformer_encoder): TransformerEncoder(\n",
       "    (layers): ModuleList(\n",
       "      (0): TransformerEncoderLayer(\n",
       "        (self_attn): MultiheadAttention(\n",
       "          (out_proj): NonDynamicallyQuantizableLinear(in_features=128, out_features=128, bias=True)\n",
       "        )\n",
       "        (linear1): Linear(in_features=128, out_features=2048, bias=True)\n",
       "        (dropout): Dropout(p=0.3, inplace=False)\n",
       "        (linear2): Linear(in_features=2048, out_features=128, bias=True)\n",
       "        (norm1): LayerNorm((128,), eps=1e-05, elementwise_affine=True)\n",
       "        (norm2): LayerNorm((128,), eps=1e-05, elementwise_affine=True)\n",
       "        (dropout1): Dropout(p=0.3, inplace=False)\n",
       "        (dropout2): Dropout(p=0.3, inplace=False)\n",
       "      )\n",
       "    )\n",
       "  )\n",
       "  (pooling): AdaptiveMaxPool1d(output_size=1)\n",
       "  (fc1): Linear(in_features=128, out_features=64, bias=True)\n",
       "  (dropout): Dropout(p=0.3, inplace=False)\n",
       "  (fc2): Linear(in_features=64, out_features=2, bias=True)\n",
       ")"
      ]
     },
     "execution_count": 60,
     "metadata": {},
     "output_type": "execute_result"
    }
   ],
   "source": [
    "import torch\n",
    "import torch.nn as nn\n",
    "import torch.nn.functional as F\n",
    "\n",
    "# Parameters\n",
    "embedding_dim = 128\n",
    "num_classes = 2\n",
    "hidden_dim = 64\n",
    "dropout_rate = 0.3\n",
    "num_transformer_layers = 1\n",
    "batch_size = 32\n",
    "\n",
    "class TransformerEncoderModel(nn.Module):\n",
    "    def __init__(self, vocab_size, embedding_dim, num_heads, hidden_dim, num_classes, dropout_rate, transformer_layers):\n",
    "        super(TransformerEncoderModel, self).__init__()\n",
    "        self.embedding = nn.Embedding(vocab_size, embedding_dim, padding_idx=0)\n",
    "        encoder_layer = nn.TransformerEncoderLayer(d_model=embedding_dim, nhead=num_heads, dropout=dropout_rate, batch_first=True)\n",
    "        self.transformer_encoder = nn.TransformerEncoder(encoder_layer, num_layers=transformer_layers)\n",
    "        self.pooling = nn.AdaptiveMaxPool1d(1)\n",
    "        self.fc1 = nn.Linear(embedding_dim, hidden_dim)\n",
    "        self.dropout = nn.Dropout(dropout_rate)\n",
    "        self.fc2 = nn.Linear(hidden_dim, num_classes)\n",
    "\n",
    "    def forward(self, x):\n",
    "        x = self.embedding(x)  # Outputs [batch_size, sequence_length, embedding_dim]\n",
    "        x = x.permute(1, 0, 2)  # Outputs [sequence_length, batch_size, embedding_dim]\n",
    "        x = self.transformer_encoder(x)  # Outputs [sequence_length, batch_size, embedding_dim]\n",
    "        x = x.permute(1, 2, 0)  # Outputs [batch_size, embedding_dim, sequence_length]\n",
    "        x = self.pooling(x).squeeze(2)\n",
    "        x = self.fc1(x)\n",
    "        x = F.relu(x)\n",
    "        x = self.dropout(x)\n",
    "        x = self.fc2(x)\n",
    "        #x = F.softmax(x, 1)\n",
    "        return x\n",
    "\n",
    "# Instantiate the model\n",
    "model = TransformerEncoderModel(len(vocab), embedding_dim, 4, hidden_dim, num_classes, dropout_rate, num_transformer_layers)\n",
    "\n",
    "# Load model to device\n",
    "device = torch.device(\"cuda\" if torch.cuda.is_available() else \"cpu\")\n",
    "model.to(device)"
   ]
  },
  {
   "cell_type": "markdown",
   "metadata": {},
   "source": [
    "## 5. Entrenamiento y test del modelo"
   ]
  },
  {
   "cell_type": "markdown",
   "metadata": {},
   "source": [
    "Definimos nuestra función para el cálculo de la pérdida y nuestro optimizador. Definimos DataLoaders para los conjuntos de train y test. Definimos el bucle de entrenamiento y test con métricas adecuadas."
   ]
  },
  {
   "cell_type": "code",
   "execution_count": 61,
   "metadata": {},
   "outputs": [
    {
     "name": "stdout",
     "output_type": "stream",
     "text": [
      "Epoch [1/10], Loss: 0.6471, Accuracy: 0.5946\n",
      "Epoch [2/10], Loss: 0.5233, Accuracy: 0.7174\n",
      "Epoch [3/10], Loss: 0.4566, Accuracy: 0.7739\n",
      "Epoch [4/10], Loss: 0.4039, Accuracy: 0.8009\n",
      "Epoch [5/10], Loss: 0.3665, Accuracy: 0.8254\n",
      "Epoch [6/10], Loss: 0.3384, Accuracy: 0.8410\n",
      "Epoch [7/10], Loss: 0.3076, Accuracy: 0.8569\n",
      "Epoch [8/10], Loss: 0.2888, Accuracy: 0.8692\n",
      "Epoch [9/10], Loss: 0.2637, Accuracy: 0.8817\n",
      "Epoch [10/10], Loss: 0.2457, Accuracy: 0.8891\n",
      "Test Accuracy: 0.4905\n"
     ]
    }
   ],
   "source": [
    "import torch.optim as optim\n",
    "\n",
    "# Define loss function and optimizer\n",
    "criterion = nn.CrossEntropyLoss()\n",
    "optimizer = torch.optim.Adam(model.parameters(), lr=0.001)\n",
    "\n",
    "# Create training and testing datasets\n",
    "train_dataset = TextDataset(x_train, y_train, text_pipeline, tokenizer)\n",
    "test_dataset = TextDataset(x_test, y_test, text_pipeline, tokenizer)\n",
    "\n",
    "# Create DataLoader instances with the adjusted batch size\n",
    "train_dataloader = DataLoader(train_dataset, batch_size=batch_size, shuffle=True, collate_fn=collate_fn)\n",
    "test_dataloader = DataLoader(test_dataset, batch_size=batch_size, shuffle=False, collate_fn=collate_fn)\n",
    "\n",
    "# Training loop\n",
    "num_epochs = 10\n",
    "\n",
    "train_losses = []\n",
    "train_accuracies = []\n",
    "for epoch in range(num_epochs):\n",
    "    model.train()\n",
    "    total_loss = 0\n",
    "    correct_predictions = 0\n",
    "    total_predictions = 0\n",
    "\n",
    "    for tweet, label in train_dataloader:\n",
    "        tweet, label = tweet.to(device), label.to(device)  # Move data to the same device as the model\n",
    "        optimizer.zero_grad()\n",
    "        outputs = model(tweet)\n",
    "        loss = criterion(outputs, label)\n",
    "        loss.backward()\n",
    "        optimizer.step()\n",
    "\n",
    "        total_loss += loss.item()\n",
    "        _, predicted = torch.max(outputs, 1)\n",
    "        correct_predictions += (predicted == label).sum().item()\n",
    "        total_predictions += label.size(0)\n",
    "\n",
    "    train_accuracy = correct_predictions / total_predictions\n",
    "    average_loss = total_loss / len(train_dataloader)\n",
    "    train_losses.append(average_loss)\n",
    "    train_accuracies.append(train_accuracy)\n",
    "\n",
    "    print(f'Epoch [{epoch+1}/{num_epochs}], Loss: {average_loss:.4f}, Accuracy: {train_accuracy:.4f}')\n",
    "\n",
    "# Evaluation on the test set\n",
    "model.eval()\n",
    "correct_predictions = 0\n",
    "total_predictions = 0\n",
    "all_labels = []\n",
    "all_predictions = []\n",
    "all_probs = []\n",
    "\n",
    "with torch.no_grad():\n",
    "    for tweet, label in test_dataloader:\n",
    "        tweet, label = tweet.to(device), label.to(device)  # Move data to the same device as the model\n",
    "        _, predicted = torch.max(outputs, 1)\n",
    "        correct_predictions += (predicted == label).sum().item()\n",
    "        total_predictions += label.size(0)\n",
    "\n",
    "        all_labels.extend(label.cpu().numpy())\n",
    "        all_predictions.extend(predicted.cpu().numpy())\n",
    "        all_probs.extend(F.softmax(outputs, dim=1)[:, 1].cpu().numpy())\n",
    "\n",
    "test_accuracy = correct_predictions / total_predictions\n",
    "\n",
    "print(f'Test Accuracy: {test_accuracy:.4f}')"
   ]
  },
  {
   "cell_type": "code",
   "execution_count": 62,
   "metadata": {},
   "outputs": [
    {
     "data": {
      "image/png": "[encoded data removed]",
      "text/plain": [
       "<Figure size 1000x500 with 1 Axes>"
      ]
     },
     "metadata": {},
     "output_type": "display_data"
    }
   ],
   "source": [
    "# Plotting the training process\n",
    "from matplotlib import pyplot as plt\n",
    "import seaborn as sns\n",
    "\n",
    "plt.figure(figsize=(10, 5))\n",
    "plt.plot(range(1, num_epochs + 1), train_losses, label='Training Loss')\n",
    "plt.plot(range(1, num_epochs + 1), train_accuracies, label='Training Accuracy')\n",
    "plt.xlabel('Epoch')\n",
    "plt.ylabel('Loss/Accuracy')\n",
    "plt.title('Training')\n",
    "plt.legend()\n",
    "plt.show()"
   ]
  },
  {
   "cell_type": "markdown",
   "metadata": {},
   "source": [
    "## 6. Métricas de rendimiento"
   ]
  },
  {
   "cell_type": "markdown",
   "metadata": {},
   "source": [
    "A continuación se presentan algunas métricas de rendimiento"
   ]
  },
  {
   "cell_type": "code",
   "execution_count": 63,
   "metadata": {},
   "outputs": [
    {
     "name": "stdout",
     "output_type": "stream",
     "text": [
      "Precision: 0.4949\n",
      "Recall: 0.4596\n",
      "F1: 0.4766\n"
     ]
    }
   ],
   "source": [
    "from sklearn.metrics import precision_score, recall_score, f1_score, roc_auc_score, confusion_matrix, roc_curve, auc\n",
    "\n",
    "test_precision = precision_score(all_labels, all_predictions)\n",
    "test_recall = recall_score(all_labels, all_predictions)\n",
    "test_f1 = f1_score(all_labels, all_predictions)\n",
    "\n",
    "print(f'Precision: {test_precision:.4f}\\nRecall: {test_recall:.4f}\\nF1: {test_f1:.4f}')"
   ]
  },
  {
   "cell_type": "code",
   "execution_count": 64,
   "metadata": {},
   "outputs": [
    {
     "data": {
      "image/png": "[encoded data removed]",
      "text/plain": [
       "<Figure size 800x600 with 2 Axes>"
      ]
     },
     "metadata": {},
     "output_type": "display_data"
    }
   ],
   "source": [
    "test_conf_matrix = confusion_matrix(all_labels, all_predictions)\n",
    "\n",
    "plt.figure(figsize=(8, 6))\n",
    "sns.heatmap(test_conf_matrix, annot=True, fmt='d', cmap='Blues')\n",
    "plt.xlabel('Predicted')\n",
    "plt.ylabel('True')\n",
    "plt.title('Confusion Matrix')\n",
    "plt.show()"
   ]
  },
  {
   "cell_type": "code",
   "execution_count": 65,
   "metadata": {},
   "outputs": [
    {
     "data": {
      "image/png": "[encoded data removed]",
      "text/plain": [
       "<Figure size 800x600 with 1 Axes>"
      ]
     },
     "metadata": {},
     "output_type": "display_data"
    },
    {
     "name": "stdout",
     "output_type": "stream",
     "text": [
      "ROC AUC Score: 0.494\n"
     ]
    }
   ],
   "source": [
    "fpr, tpr, _ = roc_curve(all_labels, all_probs)\n",
    "roc_auc = auc(fpr, tpr)\n",
    "\n",
    "plt.figure(figsize=(8, 6))\n",
    "plt.plot(fpr, tpr, color='blue', lw=2, label=f'ROC curve (area = {roc_auc:.2f})')\n",
    "plt.plot([0, 1], [0, 1], color='grey', lw=2, linestyle='--')\n",
    "plt.xlim([0.0, 1.0])\n",
    "plt.ylim([0.0, 1.05])\n",
    "plt.xlabel('False Positive Rate')\n",
    "plt.ylabel('True Positive Rate')\n",
    "plt.title('Receiver Operating Characteristic (ROC) Curve')\n",
    "plt.legend(loc=\"lower right\")\n",
    "plt.show()\n",
    "\n",
    "print(f'ROC AUC Score: {roc_auc_score(all_labels, all_probs):.4}')"
   ]
  },
  {
   "cell_type": "code",
   "execution_count": null,
   "metadata": {},
   "outputs": [],
   "source": []
  }
 ],
 "metadata": {
  "kernelspec": {
   "display_name": "env",
   "language": "python",
   "name": "python3"
  },
  "language_info": {
   "codemirror_mode": {
    "name": "ipython",
    "version": 3
   },
   "file_extension": ".py",
   "mimetype": "text/x-python",
   "name": "python",
   "nbconvert_exporter": "python",
   "pygments_lexer": "ipython3",
   "version": "3.11.5"
  }
 },
 "nbformat": 4,
 "nbformat_minor": 2
}
